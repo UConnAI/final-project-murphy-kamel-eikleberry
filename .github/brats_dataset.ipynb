{
 "cells": [
  {
   "cell_type": "code",
   "execution_count": 15,
   "metadata": {},
   "outputs": [],
   "source": [
    "ds_path = r\".\\brats2019\\MICCAI_BraTS_2019_Data_Training\"\n",
    "\n",
    "ds_data = {\n",
    "    \"name\": \"brats2019\",\n",
    "    \"numTest\": 20,\n",
    "    \"numTraining\": 80,\n",
    "    \"labels\": {0: \"HGG\", 1: \"LGG\"},\n",
    "    \"tensorImageSize\": \"3D\",\n",
    "    \"modality\": {\n",
    "        \"0\": \"CT\"\n",
    "    },\n",
    "}"
   ]
  },
  {
   "cell_type": "code",
   "execution_count": 16,
   "metadata": {},
   "outputs": [],
   "source": [
    "import pandas\n",
    "import os\n",
    "\n",
    "survival_data = pandas.read_csv(os.path.join(ds_path, \"name_mapping.csv\"))\n",
    "\n",
    "subject_ids = survival_data[\"BraTS_2019_subject_ID\"].tolist()\n",
    "grades = survival_data[\"Grade\"].tolist()"
   ]
  },
  {
   "cell_type": "code",
   "execution_count": 17,
   "metadata": {},
   "outputs": [],
   "source": [
    "data = []\n",
    "\n",
    "for subject_id, grade in zip(subject_ids, grades):\n",
    "    path = os.path.join(ds_path, grade, subject_id)\n",
    "    image = os.path.join(path, f\"{subject_id}_t1.nii\")\n",
    "    label = os.path.join(path, f\"{subject_id}_seg.nii\")\n",
    "    data.append({\"image\": image, \"label\": label})\n",
    "\n"
   ]
  },
  {
   "cell_type": "code",
   "execution_count": 18,
   "metadata": {},
   "outputs": [],
   "source": [
    "# split into training, validation, and test\n",
    "# 80% training, 10% validation, 10% test\n",
    "\n",
    "import random\n",
    "\n",
    "random.shuffle(data)\n",
    "training = data[:int(len(data) * 0.8)]\n",
    "validation = data[int(len(data) * 0.8):int(len(data) * 0.9)]\n",
    "test = data[int(len(data) * 0.9):]"
   ]
  },
  {
   "cell_type": "code",
   "execution_count": 19,
   "metadata": {},
   "outputs": [],
   "source": [
    "ds_data[\"training\"] = training\n",
    "ds_data[\"validation\"] = validation\n",
    "# Only image for test\n",
    "ds_data[\"test\"] = [x[\"image\"] for x in test]"
   ]
  },
  {
   "cell_type": "code",
   "execution_count": 20,
   "metadata": {},
   "outputs": [],
   "source": [
    "import json\n",
    "with open(ds_path + \"/dataset.json\", \"w\") as f:\n",
    "    ds_data = json.dump(ds_data, f)"
   ]
  }
 ],
 "metadata": {
  "kernelspec": {
   "display_name": "Python 3",
   "language": "python",
   "name": "python3"
  },
  "language_info": {
   "codemirror_mode": {
    "name": "ipython",
    "version": 3
   },
   "file_extension": ".py",
   "mimetype": "text/x-python",
   "name": "python",
   "nbconvert_exporter": "python",
   "pygments_lexer": "ipython3",
   "version": "3.10.7"
  },
  "orig_nbformat": 4
 },
 "nbformat": 4,
 "nbformat_minor": 2
}
